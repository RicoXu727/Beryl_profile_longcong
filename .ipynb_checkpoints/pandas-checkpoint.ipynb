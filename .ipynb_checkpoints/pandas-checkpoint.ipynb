{
 "cells": [
  {
   "cell_type": "markdown",
   "metadata": {},
   "source": [
    "### Use Twitter data practice pandas"
   ]
  },
  {
   "cell_type": "code",
   "execution_count": 17,
   "metadata": {},
   "outputs": [
    {
     "data": {
      "text/html": [
       "<div>\n",
       "<style scoped>\n",
       "    .dataframe tbody tr th:only-of-type {\n",
       "        vertical-align: middle;\n",
       "    }\n",
       "\n",
       "    .dataframe tbody tr th {\n",
       "        vertical-align: top;\n",
       "    }\n",
       "\n",
       "    .dataframe thead th {\n",
       "        text-align: right;\n",
       "    }\n",
       "</style>\n",
       "<table border=\"1\" class=\"dataframe\">\n",
       "  <thead>\n",
       "    <tr style=\"text-align: right;\">\n",
       "      <th></th>\n",
       "      <th>time</th>\n",
       "      <th>user</th>\n",
       "      <th>text</th>\n",
       "      <th>hashtag</th>\n",
       "      <th>user_mentions</th>\n",
       "      <th>retweeted</th>\n",
       "      <th>retweet_count</th>\n",
       "      <th>favorited</th>\n",
       "      <th>favorite_count</th>\n",
       "      <th>in_reply_to_user_id</th>\n",
       "    </tr>\n",
       "  </thead>\n",
       "  <tbody>\n",
       "    <tr>\n",
       "      <th>0</th>\n",
       "      <td>08-03-2023</td>\n",
       "      <td>intelcapital</td>\n",
       "      <td>For a third year in a row, @Immuta has been aw...</td>\n",
       "      <td>['Startup', 'AmericasBestEmployers']</td>\n",
       "      <td>[{'user_id': 3362905589, 'screen_name': 'immut...</td>\n",
       "      <td>False</td>\n",
       "      <td>1</td>\n",
       "      <td>False</td>\n",
       "      <td>9</td>\n",
       "      <td>NaN</td>\n",
       "    </tr>\n",
       "    <tr>\n",
       "      <th>1</th>\n",
       "      <td>08-03-2023</td>\n",
       "      <td>intelcapital</td>\n",
       "      <td>Cybersecurity company @jupiterone announced in...</td>\n",
       "      <td>['workflows', 'vulnerability']</td>\n",
       "      <td>[{'user_id': 968524585741180928, 'screen_name'...</td>\n",
       "      <td>False</td>\n",
       "      <td>0</td>\n",
       "      <td>False</td>\n",
       "      <td>2</td>\n",
       "      <td>NaN</td>\n",
       "    </tr>\n",
       "    <tr>\n",
       "      <th>2</th>\n",
       "      <td>08-03-2023</td>\n",
       "      <td>intelcapital</td>\n",
       "      <td>Learn more about how SecurityScorecard’s ratin...</td>\n",
       "      <td>NaN</td>\n",
       "      <td>NaN</td>\n",
       "      <td>False</td>\n",
       "      <td>1</td>\n",
       "      <td>False</td>\n",
       "      <td>1</td>\n",
       "      <td>27994823.0</td>\n",
       "    </tr>\n",
       "    <tr>\n",
       "      <th>3</th>\n",
       "      <td>08-03-2023</td>\n",
       "      <td>intelcapital</td>\n",
       "      <td>SecurityScorecard Co-founder &amp;amp; CEO Aleksan...</td>\n",
       "      <td>['software']</td>\n",
       "      <td>[{'user_id': 87010499, 'screen_name': 'ayampol...</td>\n",
       "      <td>False</td>\n",
       "      <td>1</td>\n",
       "      <td>False</td>\n",
       "      <td>1</td>\n",
       "      <td>27994823.0</td>\n",
       "    </tr>\n",
       "    <tr>\n",
       "      <th>4</th>\n",
       "      <td>08-03-2023</td>\n",
       "      <td>intelcapital</td>\n",
       "      <td>Intel Capital's Managing Director Sunil Kurkur...</td>\n",
       "      <td>['cybersecurity']</td>\n",
       "      <td>NaN</td>\n",
       "      <td>False</td>\n",
       "      <td>0</td>\n",
       "      <td>False</td>\n",
       "      <td>1</td>\n",
       "      <td>27994823.0</td>\n",
       "    </tr>\n",
       "  </tbody>\n",
       "</table>\n",
       "</div>"
      ],
      "text/plain": [
       "         time          user  \\\n",
       "0  08-03-2023  intelcapital   \n",
       "1  08-03-2023  intelcapital   \n",
       "2  08-03-2023  intelcapital   \n",
       "3  08-03-2023  intelcapital   \n",
       "4  08-03-2023  intelcapital   \n",
       "\n",
       "                                                text  \\\n",
       "0  For a third year in a row, @Immuta has been aw...   \n",
       "1  Cybersecurity company @jupiterone announced in...   \n",
       "2  Learn more about how SecurityScorecard’s ratin...   \n",
       "3  SecurityScorecard Co-founder &amp; CEO Aleksan...   \n",
       "4  Intel Capital's Managing Director Sunil Kurkur...   \n",
       "\n",
       "                                hashtag  \\\n",
       "0  ['Startup', 'AmericasBestEmployers']   \n",
       "1        ['workflows', 'vulnerability']   \n",
       "2                                   NaN   \n",
       "3                          ['software']   \n",
       "4                     ['cybersecurity']   \n",
       "\n",
       "                                       user_mentions  retweeted  \\\n",
       "0  [{'user_id': 3362905589, 'screen_name': 'immut...      False   \n",
       "1  [{'user_id': 968524585741180928, 'screen_name'...      False   \n",
       "2                                                NaN      False   \n",
       "3  [{'user_id': 87010499, 'screen_name': 'ayampol...      False   \n",
       "4                                                NaN      False   \n",
       "\n",
       "   retweet_count  favorited  favorite_count  in_reply_to_user_id  \n",
       "0              1      False               9                  NaN  \n",
       "1              0      False               2                  NaN  \n",
       "2              1      False               1           27994823.0  \n",
       "3              1      False               1           27994823.0  \n",
       "4              0      False               1           27994823.0  "
      ]
     },
     "execution_count": 17,
     "metadata": {},
     "output_type": "execute_result"
    }
   ],
   "source": [
    "import pandas as pd\n",
    "\n",
    "icdata = pd.read_csv('ICtweets.csv')\n",
    "icdata.head()\n"
   ]
  },
  {
   "cell_type": "code",
   "execution_count": 18,
   "metadata": {},
   "outputs": [
    {
     "data": {
      "text/html": [
       "<div>\n",
       "<style scoped>\n",
       "    .dataframe tbody tr th:only-of-type {\n",
       "        vertical-align: middle;\n",
       "    }\n",
       "\n",
       "    .dataframe tbody tr th {\n",
       "        vertical-align: top;\n",
       "    }\n",
       "\n",
       "    .dataframe thead th {\n",
       "        text-align: right;\n",
       "    }\n",
       "</style>\n",
       "<table border=\"1\" class=\"dataframe\">\n",
       "  <thead>\n",
       "    <tr style=\"text-align: right;\">\n",
       "      <th></th>\n",
       "      <th>time</th>\n",
       "      <th>user</th>\n",
       "      <th>text</th>\n",
       "      <th>hashtag</th>\n",
       "      <th>user_mentions</th>\n",
       "      <th>retweeted</th>\n",
       "      <th>retweet_count</th>\n",
       "      <th>favorited</th>\n",
       "      <th>favorite_count</th>\n",
       "      <th>in_reply_to_user_id</th>\n",
       "    </tr>\n",
       "  </thead>\n",
       "  <tbody>\n",
       "    <tr>\n",
       "      <th>0</th>\n",
       "      <td>08-03-2023</td>\n",
       "      <td>intelcapital</td>\n",
       "      <td>For a third year in a row, @Immuta has been aw...</td>\n",
       "      <td>['Startup', 'AmericasBestEmployers']</td>\n",
       "      <td>[{'user_id': 3362905589, 'screen_name': 'immut...</td>\n",
       "      <td>False</td>\n",
       "      <td>1</td>\n",
       "      <td>False</td>\n",
       "      <td>9</td>\n",
       "      <td>0.0</td>\n",
       "    </tr>\n",
       "    <tr>\n",
       "      <th>1</th>\n",
       "      <td>08-03-2023</td>\n",
       "      <td>intelcapital</td>\n",
       "      <td>Cybersecurity company @jupiterone announced in...</td>\n",
       "      <td>['workflows', 'vulnerability']</td>\n",
       "      <td>[{'user_id': 968524585741180928, 'screen_name'...</td>\n",
       "      <td>False</td>\n",
       "      <td>0</td>\n",
       "      <td>False</td>\n",
       "      <td>2</td>\n",
       "      <td>0.0</td>\n",
       "    </tr>\n",
       "    <tr>\n",
       "      <th>2</th>\n",
       "      <td>08-03-2023</td>\n",
       "      <td>intelcapital</td>\n",
       "      <td>Learn more about how SecurityScorecard’s ratin...</td>\n",
       "      <td>NaN</td>\n",
       "      <td>NaN</td>\n",
       "      <td>False</td>\n",
       "      <td>1</td>\n",
       "      <td>False</td>\n",
       "      <td>1</td>\n",
       "      <td>27994823.0</td>\n",
       "    </tr>\n",
       "    <tr>\n",
       "      <th>3</th>\n",
       "      <td>08-03-2023</td>\n",
       "      <td>intelcapital</td>\n",
       "      <td>SecurityScorecard Co-founder &amp;amp; CEO Aleksan...</td>\n",
       "      <td>['software']</td>\n",
       "      <td>[{'user_id': 87010499, 'screen_name': 'ayampol...</td>\n",
       "      <td>False</td>\n",
       "      <td>1</td>\n",
       "      <td>False</td>\n",
       "      <td>1</td>\n",
       "      <td>27994823.0</td>\n",
       "    </tr>\n",
       "    <tr>\n",
       "      <th>4</th>\n",
       "      <td>08-03-2023</td>\n",
       "      <td>intelcapital</td>\n",
       "      <td>Intel Capital's Managing Director Sunil Kurkur...</td>\n",
       "      <td>['cybersecurity']</td>\n",
       "      <td>NaN</td>\n",
       "      <td>False</td>\n",
       "      <td>0</td>\n",
       "      <td>False</td>\n",
       "      <td>1</td>\n",
       "      <td>27994823.0</td>\n",
       "    </tr>\n",
       "  </tbody>\n",
       "</table>\n",
       "</div>"
      ],
      "text/plain": [
       "         time          user  \\\n",
       "0  08-03-2023  intelcapital   \n",
       "1  08-03-2023  intelcapital   \n",
       "2  08-03-2023  intelcapital   \n",
       "3  08-03-2023  intelcapital   \n",
       "4  08-03-2023  intelcapital   \n",
       "\n",
       "                                                text  \\\n",
       "0  For a third year in a row, @Immuta has been aw...   \n",
       "1  Cybersecurity company @jupiterone announced in...   \n",
       "2  Learn more about how SecurityScorecard’s ratin...   \n",
       "3  SecurityScorecard Co-founder &amp; CEO Aleksan...   \n",
       "4  Intel Capital's Managing Director Sunil Kurkur...   \n",
       "\n",
       "                                hashtag  \\\n",
       "0  ['Startup', 'AmericasBestEmployers']   \n",
       "1        ['workflows', 'vulnerability']   \n",
       "2                                   NaN   \n",
       "3                          ['software']   \n",
       "4                     ['cybersecurity']   \n",
       "\n",
       "                                       user_mentions  retweeted  \\\n",
       "0  [{'user_id': 3362905589, 'screen_name': 'immut...      False   \n",
       "1  [{'user_id': 968524585741180928, 'screen_name'...      False   \n",
       "2                                                NaN      False   \n",
       "3  [{'user_id': 87010499, 'screen_name': 'ayampol...      False   \n",
       "4                                                NaN      False   \n",
       "\n",
       "   retweet_count  favorited  favorite_count  in_reply_to_user_id  \n",
       "0              1      False               9                  0.0  \n",
       "1              0      False               2                  0.0  \n",
       "2              1      False               1           27994823.0  \n",
       "3              1      False               1           27994823.0  \n",
       "4              0      False               1           27994823.0  "
      ]
     },
     "execution_count": 18,
     "metadata": {},
     "output_type": "execute_result"
    }
   ],
   "source": [
    "# As for attribute in_reply_to_user_id, fill 0 to NaN\n",
    "\n",
    "icdata['in_reply_to_user_id'] = icdata['in_reply_to_user_id'].fillna(0)\n",
    "icdata.head()"
   ]
  },
  {
   "cell_type": "code",
   "execution_count": 24,
   "metadata": {},
   "outputs": [
    {
     "data": {
      "text/html": [
       "<div>\n",
       "<style scoped>\n",
       "    .dataframe tbody tr th:only-of-type {\n",
       "        vertical-align: middle;\n",
       "    }\n",
       "\n",
       "    .dataframe tbody tr th {\n",
       "        vertical-align: top;\n",
       "    }\n",
       "\n",
       "    .dataframe thead th {\n",
       "        text-align: right;\n",
       "    }\n",
       "</style>\n",
       "<table border=\"1\" class=\"dataframe\">\n",
       "  <thead>\n",
       "    <tr style=\"text-align: right;\">\n",
       "      <th></th>\n",
       "      <th>time</th>\n",
       "      <th>user</th>\n",
       "      <th>text</th>\n",
       "      <th>hashtag</th>\n",
       "      <th>user_mentions</th>\n",
       "      <th>retweeted</th>\n",
       "      <th>retweet_count</th>\n",
       "      <th>favorited</th>\n",
       "      <th>favorite_count</th>\n",
       "      <th>in_reply_to_user_id</th>\n",
       "    </tr>\n",
       "  </thead>\n",
       "  <tbody>\n",
       "    <tr>\n",
       "      <th>0</th>\n",
       "      <td>08-03-2023</td>\n",
       "      <td>intelcapital</td>\n",
       "      <td>For a third year in a row, @Immuta has been aw...</td>\n",
       "      <td>['Startup', 'AmericasBestEmployers']</td>\n",
       "      <td>[{'user_id': 3362905589, 'screen_name': 'immut...</td>\n",
       "      <td>False</td>\n",
       "      <td>1</td>\n",
       "      <td>False</td>\n",
       "      <td>9</td>\n",
       "      <td>0.0</td>\n",
       "    </tr>\n",
       "    <tr>\n",
       "      <th>1</th>\n",
       "      <td>08-03-2023</td>\n",
       "      <td>intelcapital</td>\n",
       "      <td>Cybersecurity company @jupiterone announced in...</td>\n",
       "      <td>['workflows', 'vulnerability']</td>\n",
       "      <td>[{'user_id': 968524585741180928, 'screen_name'...</td>\n",
       "      <td>False</td>\n",
       "      <td>0</td>\n",
       "      <td>False</td>\n",
       "      <td>2</td>\n",
       "      <td>0.0</td>\n",
       "    </tr>\n",
       "    <tr>\n",
       "      <th>3</th>\n",
       "      <td>08-03-2023</td>\n",
       "      <td>intelcapital</td>\n",
       "      <td>SecurityScorecard Co-founder &amp;amp; CEO Aleksan...</td>\n",
       "      <td>['software']</td>\n",
       "      <td>[{'user_id': 87010499, 'screen_name': 'ayampol...</td>\n",
       "      <td>False</td>\n",
       "      <td>1</td>\n",
       "      <td>False</td>\n",
       "      <td>1</td>\n",
       "      <td>27994823.0</td>\n",
       "    </tr>\n",
       "    <tr>\n",
       "      <th>6</th>\n",
       "      <td>08-03-2023</td>\n",
       "      <td>intelcapital</td>\n",
       "      <td>Take a look #InsideIntelCapital with some insi...</td>\n",
       "      <td>['InsideIntelCapital']</td>\n",
       "      <td>[{'user_id': 2314468920, 'screen_name': 'secur...</td>\n",
       "      <td>False</td>\n",
       "      <td>1</td>\n",
       "      <td>False</td>\n",
       "      <td>3</td>\n",
       "      <td>0.0</td>\n",
       "    </tr>\n",
       "    <tr>\n",
       "      <th>7</th>\n",
       "      <td>08-03-2023</td>\n",
       "      <td>intelcapital</td>\n",
       "      <td>Our portfolio company @alkymi_inc appointed fo...</td>\n",
       "      <td>['financialservices']</td>\n",
       "      <td>[{'user_id': 889488813797650432, 'screen_name'...</td>\n",
       "      <td>False</td>\n",
       "      <td>0</td>\n",
       "      <td>False</td>\n",
       "      <td>2</td>\n",
       "      <td>0.0</td>\n",
       "    </tr>\n",
       "  </tbody>\n",
       "</table>\n",
       "</div>"
      ],
      "text/plain": [
       "         time          user  \\\n",
       "0  08-03-2023  intelcapital   \n",
       "1  08-03-2023  intelcapital   \n",
       "3  08-03-2023  intelcapital   \n",
       "6  08-03-2023  intelcapital   \n",
       "7  08-03-2023  intelcapital   \n",
       "\n",
       "                                                text  \\\n",
       "0  For a third year in a row, @Immuta has been aw...   \n",
       "1  Cybersecurity company @jupiterone announced in...   \n",
       "3  SecurityScorecard Co-founder &amp; CEO Aleksan...   \n",
       "6  Take a look #InsideIntelCapital with some insi...   \n",
       "7  Our portfolio company @alkymi_inc appointed fo...   \n",
       "\n",
       "                                hashtag  \\\n",
       "0  ['Startup', 'AmericasBestEmployers']   \n",
       "1        ['workflows', 'vulnerability']   \n",
       "3                          ['software']   \n",
       "6                ['InsideIntelCapital']   \n",
       "7                 ['financialservices']   \n",
       "\n",
       "                                       user_mentions  retweeted  \\\n",
       "0  [{'user_id': 3362905589, 'screen_name': 'immut...      False   \n",
       "1  [{'user_id': 968524585741180928, 'screen_name'...      False   \n",
       "3  [{'user_id': 87010499, 'screen_name': 'ayampol...      False   \n",
       "6  [{'user_id': 2314468920, 'screen_name': 'secur...      False   \n",
       "7  [{'user_id': 889488813797650432, 'screen_name'...      False   \n",
       "\n",
       "   retweet_count  favorited  favorite_count  in_reply_to_user_id  \n",
       "0              1      False               9                  0.0  \n",
       "1              0      False               2                  0.0  \n",
       "3              1      False               1           27994823.0  \n",
       "6              1      False               3                  0.0  \n",
       "7              0      False               2                  0.0  "
      ]
     },
     "execution_count": 24,
     "metadata": {},
     "output_type": "execute_result"
    }
   ],
   "source": [
    "# create new data frame which hashtags list are not empty\n",
    "df = icdata.copy()\n",
    "empty_list_indices = df[df['hashtag'].isnull() | df['user_mentions'].isnull()].index\n",
    "\n",
    "# Drop rows using the drop() function\n",
    "filtered_df = df.drop(empty_list_indices, axis=0)\n",
    "filtered_df[:5]\n"
   ]
  },
  {
   "cell_type": "code",
   "execution_count": 21,
   "metadata": {},
   "outputs": [
    {
     "name": "stdout",
     "output_type": "stream",
     "text": [
      "Int64Index([ 1,  4,  5,  7,  9, 13, 15, 20, 21, 22, 23, 24, 26, 27, 28, 30, 34,\n",
      "            35, 36, 39, 41, 42, 43, 45, 47, 48, 49, 50, 51, 54, 58, 60, 61, 63,\n",
      "            65, 66, 69, 71, 72, 74, 75, 76, 77, 78, 82, 84, 85, 88, 89, 90, 91,\n",
      "            92, 93, 95, 97, 98, 99],\n",
      "           dtype='int64')\n"
     ]
    },
    {
     "data": {
      "text/html": [
       "<div>\n",
       "<style scoped>\n",
       "    .dataframe tbody tr th:only-of-type {\n",
       "        vertical-align: middle;\n",
       "    }\n",
       "\n",
       "    .dataframe tbody tr th {\n",
       "        vertical-align: top;\n",
       "    }\n",
       "\n",
       "    .dataframe thead th {\n",
       "        text-align: right;\n",
       "    }\n",
       "</style>\n",
       "<table border=\"1\" class=\"dataframe\">\n",
       "  <thead>\n",
       "    <tr style=\"text-align: right;\">\n",
       "      <th></th>\n",
       "      <th>time</th>\n",
       "      <th>user</th>\n",
       "      <th>text</th>\n",
       "      <th>hashtag</th>\n",
       "      <th>user_mentions</th>\n",
       "      <th>retweeted</th>\n",
       "      <th>retweet_count</th>\n",
       "      <th>favorited</th>\n",
       "      <th>favorite_count</th>\n",
       "      <th>in_reply_to_user_id</th>\n",
       "    </tr>\n",
       "  </thead>\n",
       "  <tbody>\n",
       "    <tr>\n",
       "      <th>0</th>\n",
       "      <td>08-03-2023</td>\n",
       "      <td>intelcapital</td>\n",
       "      <td>For a third year in a row, @Immuta has been aw...</td>\n",
       "      <td>['Startup', 'AmericasBestEmployers']</td>\n",
       "      <td>[{'user_id': 3362905589, 'screen_name': 'immut...</td>\n",
       "      <td>False</td>\n",
       "      <td>1</td>\n",
       "      <td>False</td>\n",
       "      <td>9</td>\n",
       "      <td>0.0</td>\n",
       "    </tr>\n",
       "    <tr>\n",
       "      <th>2</th>\n",
       "      <td>08-03-2023</td>\n",
       "      <td>intelcapital</td>\n",
       "      <td>Learn more about how SecurityScorecard’s ratin...</td>\n",
       "      <td>NaN</td>\n",
       "      <td>NaN</td>\n",
       "      <td>False</td>\n",
       "      <td>1</td>\n",
       "      <td>False</td>\n",
       "      <td>1</td>\n",
       "      <td>27994823.0</td>\n",
       "    </tr>\n",
       "    <tr>\n",
       "      <th>3</th>\n",
       "      <td>08-03-2023</td>\n",
       "      <td>intelcapital</td>\n",
       "      <td>SecurityScorecard Co-founder &amp;amp; CEO Aleksan...</td>\n",
       "      <td>['software']</td>\n",
       "      <td>[{'user_id': 87010499, 'screen_name': 'ayampol...</td>\n",
       "      <td>False</td>\n",
       "      <td>1</td>\n",
       "      <td>False</td>\n",
       "      <td>1</td>\n",
       "      <td>27994823.0</td>\n",
       "    </tr>\n",
       "    <tr>\n",
       "      <th>6</th>\n",
       "      <td>08-03-2023</td>\n",
       "      <td>intelcapital</td>\n",
       "      <td>Take a look #InsideIntelCapital with some insi...</td>\n",
       "      <td>['InsideIntelCapital']</td>\n",
       "      <td>[{'user_id': 2314468920, 'screen_name': 'secur...</td>\n",
       "      <td>False</td>\n",
       "      <td>1</td>\n",
       "      <td>False</td>\n",
       "      <td>3</td>\n",
       "      <td>0.0</td>\n",
       "    </tr>\n",
       "    <tr>\n",
       "      <th>8</th>\n",
       "      <td>07-03-2023</td>\n",
       "      <td>intelcapital</td>\n",
       "      <td>As a part of its Society 5.0 project, Japan's ...</td>\n",
       "      <td>['supercomputer', 'AI']</td>\n",
       "      <td>[{'user_id': 43093791, 'screen_name': 'riken_e...</td>\n",
       "      <td>False</td>\n",
       "      <td>2</td>\n",
       "      <td>False</td>\n",
       "      <td>6</td>\n",
       "      <td>0.0</td>\n",
       "    </tr>\n",
       "  </tbody>\n",
       "</table>\n",
       "</div>"
      ],
      "text/plain": [
       "         time          user  \\\n",
       "0  08-03-2023  intelcapital   \n",
       "2  08-03-2023  intelcapital   \n",
       "3  08-03-2023  intelcapital   \n",
       "6  08-03-2023  intelcapital   \n",
       "8  07-03-2023  intelcapital   \n",
       "\n",
       "                                                text  \\\n",
       "0  For a third year in a row, @Immuta has been aw...   \n",
       "2  Learn more about how SecurityScorecard’s ratin...   \n",
       "3  SecurityScorecard Co-founder &amp; CEO Aleksan...   \n",
       "6  Take a look #InsideIntelCapital with some insi...   \n",
       "8  As a part of its Society 5.0 project, Japan's ...   \n",
       "\n",
       "                                hashtag  \\\n",
       "0  ['Startup', 'AmericasBestEmployers']   \n",
       "2                                   NaN   \n",
       "3                          ['software']   \n",
       "6                ['InsideIntelCapital']   \n",
       "8               ['supercomputer', 'AI']   \n",
       "\n",
       "                                       user_mentions  retweeted  \\\n",
       "0  [{'user_id': 3362905589, 'screen_name': 'immut...      False   \n",
       "2                                                NaN      False   \n",
       "3  [{'user_id': 87010499, 'screen_name': 'ayampol...      False   \n",
       "6  [{'user_id': 2314468920, 'screen_name': 'secur...      False   \n",
       "8  [{'user_id': 43093791, 'screen_name': 'riken_e...      False   \n",
       "\n",
       "   retweet_count  favorited  favorite_count  in_reply_to_user_id  \n",
       "0              1      False               9                  0.0  \n",
       "2              1      False               1           27994823.0  \n",
       "3              1      False               1           27994823.0  \n",
       "6              1      False               3                  0.0  \n",
       "8              2      False               6                  0.0  "
      ]
     },
     "execution_count": 21,
     "metadata": {},
     "output_type": "execute_result"
    }
   ],
   "source": [
    "empty_list_indices = df[df['retweet_count'] < 1].index\n",
    "print(empty_list_indices)\n",
    "filtered_df = df.drop(empty_list_indices, axis=0)\n",
    "filtered_df[:5]\n",
    "# for item in df['hashtag'][:5]:\n",
    "#     print(type(item))\n",
    "# # Drop rows using the drop() function\n",
    "# filtered_df = df.drop(empty_list_indices, axis=0)\n",
    "# filtered_df[:3]"
   ]
  },
  {
   "cell_type": "markdown",
   "metadata": {},
   "source": [
    "### Numpy part"
   ]
  },
  {
   "cell_type": "code",
   "execution_count": 26,
   "metadata": {},
   "outputs": [],
   "source": [
    "import numpy as np"
   ]
  },
  {
   "cell_type": "code",
   "execution_count": 28,
   "metadata": {},
   "outputs": [
    {
     "data": {
      "text/plain": [
       "array([[9, 9, 4],\n",
       "       [8, 8, 1],\n",
       "       [5, 3, 6],\n",
       "       [3, 3, 3],\n",
       "       [2, 1, 9]])"
      ]
     },
     "execution_count": 28,
     "metadata": {},
     "output_type": "execute_result"
    }
   ],
   "source": [
    "# Compute the min/max for each row for a NumPy 2D array\n",
    "\n",
    "np.random.seed(100)\n",
    "a = np.random.randint(1,10, [5,3])\n",
    "a"
   ]
  },
  {
   "cell_type": "code",
   "execution_count": 33,
   "metadata": {},
   "outputs": [
    {
     "data": {
      "text/plain": [
       "array([4, 1, 3, 3, 1])"
      ]
     },
     "execution_count": 33,
     "metadata": {},
     "output_type": "execute_result"
    }
   ],
   "source": [
    "minvalue = np.min(a, axis = 1)\n",
    "minvalue"
   ]
  },
  {
   "cell_type": "code",
   "execution_count": 35,
   "metadata": {},
   "outputs": [
    {
     "data": {
      "text/plain": [
       "array([9, 8, 6, 3, 9])"
      ]
     },
     "execution_count": 35,
     "metadata": {},
     "output_type": "execute_result"
    }
   ],
   "source": [
    "maxvalue = np.max(a, axis = 1)\n",
    "maxvalue"
   ]
  },
  {
   "cell_type": "code",
   "execution_count": 36,
   "metadata": {},
   "outputs": [
    {
     "data": {
      "text/plain": [
       "array([0.44444444, 0.125     , 0.5       , 1.        , 0.11111111])"
      ]
     },
     "execution_count": 36,
     "metadata": {},
     "output_type": "execute_result"
    }
   ],
   "source": [
    "minvalue/maxvalue"
   ]
  },
  {
   "cell_type": "code",
   "execution_count": 39,
   "metadata": {},
   "outputs": [
    {
     "data": {
      "text/plain": [
       "array([0.44444444, 0.125     , 0.5       , 1.        , 0.11111111])"
      ]
     },
     "execution_count": 39,
     "metadata": {},
     "output_type": "execute_result"
    }
   ],
   "source": [
    "np.apply_along_axis(lambda x: np.min(x)/np.max(x), axis = 1, arr = a)"
   ]
  },
  {
   "cell_type": "code",
   "execution_count": 55,
   "metadata": {},
   "outputs": [
    {
     "name": "stdout",
     "output_type": "stream",
     "text": [
      "[0 0 1 1 2 2]\n",
      "[2 8 2 8 2 8]\n",
      "[[0 0 1 1 2 2]\n",
      " [2 8 2 8 2 8]]\n",
      "[0 0 1 1 2 2 2 8 2 8 2 8]\n"
     ]
    }
   ],
   "source": [
    "# How to find all occurrences of an Element in a list\n",
    "\n",
    "values = np.array([[1,2,3,1,2,4,5,6,3,2,1],[1,2,3,1,2,4,5,6,3,2,1],[1,2,3,1,2,4,5,6,3,2,1]])\n",
    "searchval = 3\n",
    "x = np.where(values == searchval)[0]\n",
    "y = np.where(values == searchval)[1]\n",
    "print(x)\n",
    "print(y)\n",
    "print(np.stack((x, y), axis = 0))\n",
    "print(np.concatenate((x, y), axis = 0))"
   ]
  },
  {
   "cell_type": "code",
   "execution_count": 63,
   "metadata": {},
   "outputs": [
    {
     "name": "stdout",
     "output_type": "stream",
     "text": [
      "[0 1 2] [1 0 3]\n"
     ]
    },
    {
     "data": {
      "text/plain": [
       "array([[0., 1., 0., 0.],\n",
       "       [1., 0., 0., 0.],\n",
       "       [0., 0., 0., 1.]])"
      ]
     },
     "execution_count": 63,
     "metadata": {},
     "output_type": "execute_result"
    }
   ],
   "source": [
    "# Convert array of indices to One-Hot encoded NumPy array\n",
    "\n",
    "# a = array([1,0,3])\n",
    "# b = array([[0,1,0,0], [1,0,0,0], [0,0,0,1]])\n",
    "\n",
    "a = np.array([1, 0, 3])\n",
    "b = np.zeros((a.size, a.max()+1))\n",
    "b[np.arange(a.size),a] = 1\n",
    "b"
   ]
  },
  {
   "cell_type": "code",
   "execution_count": 64,
   "metadata": {},
   "outputs": [
    {
     "data": {
      "text/plain": [
       "array([25, 49, 81])"
      ]
     },
     "execution_count": 64,
     "metadata": {},
     "output_type": "execute_result"
    }
   ],
   "source": [
    "# Explain what is Vectorization in NumPy\n",
    "\n",
    "def square_func(a, b):\n",
    "    return (a + b) ** 2\n",
    "\n",
    "a = np.array([2, 3, 4])\n",
    "b = np.array([3, 4, 5])\n",
    "vsquare_func = np.vectorize(square_func)\n",
    "vsquare_func(a, b)"
   ]
  },
  {
   "cell_type": "code",
   "execution_count": 69,
   "metadata": {},
   "outputs": [],
   "source": [
    "# How to convert a numeric array to a categorical (text) array?\n",
    "\n",
    "# Input\n",
    "url = 'https://archive.ics.uci.edu/ml/machine-learning-databases/iris/iris.data'\n",
    "iris = np.genfromtxt(url, delimiter=',', dtype='object')\n",
    "names = ('sepallength', 'sepalwidth', 'petallength', 'petalwidth', 'species')\n"
   ]
  },
  {
   "cell_type": "code",
   "execution_count": 73,
   "metadata": {},
   "outputs": [
    {
     "data": {
      "text/plain": [
       "array([1.4, 1.4, 1.3, 1.5, 1.4, 1.7, 1.4, 1.5, 1.4, 1.5, 1.5, 1.6, 1.4,\n",
       "       1.1, 1.2, 1.5, 1.3, 1.4, 1.7, 1.5, 1.7, 1.5, 1. , 1.7, 1.9, 1.6,\n",
       "       1.6, 1.5, 1.4, 1.6, 1.6, 1.5, 1.5, 1.4, 1.5, 1.2, 1.3, 1.5, 1.3,\n",
       "       1.5, 1.3, 1.3, 1.3, 1.6, 1.9, 1.4, 1.6, 1.4, 1.5, 1.4, 4.7, 4.5,\n",
       "       4.9, 4. , 4.6, 4.5, 4.7, 3.3, 4.6, 3.9, 3.5, 4.2, 4. , 4.7, 3.6,\n",
       "       4.4, 4.5, 4.1, 4.5, 3.9, 4.8, 4. , 4.9, 4.7, 4.3, 4.4, 4.8, 5. ,\n",
       "       4.5, 3.5, 3.8, 3.7, 3.9, 5.1, 4.5, 4.5, 4.7, 4.4, 4.1, 4. , 4.4,\n",
       "       4.6, 4. , 3.3, 4.2, 4.2, 4.2, 4.3, 3. , 4.1, 6. , 5.1, 5.9, 5.6,\n",
       "       5.8, 6.6, 4.5, 6.3, 5.8, 6.1, 5.1, 5.3, 5.5, 5. , 5.1, 5.3, 5.5,\n",
       "       6.7, 6.9, 5. , 5.7, 4.9, 6.7, 4.9, 5.7, 6. , 4.8, 4.9, 5.6, 5.8,\n",
       "       6.1, 6.4, 5.6, 5.1, 5.6, 6.1, 5.6, 5.5, 4.8, 5.4, 5.6, 5.1, 5.1,\n",
       "       5.9, 5.7, 5.2, 5. , 5.2, 5.4, 5.1])"
      ]
     },
     "execution_count": 73,
     "metadata": {},
     "output_type": "execute_result"
    }
   ],
   "source": [
    "iris[:, 2].astype('float')"
   ]
  },
  {
   "cell_type": "code",
   "execution_count": 75,
   "metadata": {},
   "outputs": [
    {
     "data": {
      "text/plain": [
       "array([1, 1, 1, 1, 1, 1, 1, 1, 1, 1, 1, 1, 1, 1, 1, 1, 1, 1, 1, 1, 1, 1,\n",
       "       1, 1, 1, 1, 1, 1, 1, 1, 1, 1, 1, 1, 1, 1, 1, 1, 1, 1, 1, 1, 1, 1,\n",
       "       1, 1, 1, 1, 1, 1, 2, 2, 2, 2, 2, 2, 2, 2, 2, 2, 2, 2, 2, 2, 2, 2,\n",
       "       2, 2, 2, 2, 2, 2, 2, 2, 2, 2, 2, 3, 2, 2, 2, 2, 2, 3, 2, 2, 2, 2,\n",
       "       2, 2, 2, 2, 2, 2, 2, 2, 2, 2, 2, 2, 3, 3, 3, 3, 3, 3, 2, 3, 3, 3,\n",
       "       3, 3, 3, 3, 3, 3, 3, 3, 3, 3, 3, 2, 3, 2, 3, 3, 2, 2, 3, 3, 3, 3,\n",
       "       3, 3, 3, 3, 3, 3, 2, 3, 3, 3, 3, 3, 3, 3, 3, 3, 3, 3])"
      ]
     },
     "execution_count": 75,
     "metadata": {},
     "output_type": "execute_result"
    }
   ],
   "source": [
    "# Bin petal length \n",
    "petal_length_bin = np.digitize(iris[:, 2].astype('float'), [0, 3, 5, 10])\n",
    "petal_length_bin"
   ]
  },
  {
   "cell_type": "code",
   "execution_count": 78,
   "metadata": {},
   "outputs": [
    {
     "data": {
      "text/plain": [
       "['small',\n",
       " 'small',\n",
       " 'small',\n",
       " 'small',\n",
       " 'small',\n",
       " 'small',\n",
       " 'small',\n",
       " 'small',\n",
       " 'small',\n",
       " 'small']"
      ]
     },
     "execution_count": 78,
     "metadata": {},
     "output_type": "execute_result"
    }
   ],
   "source": [
    "# Map it to respective category\n",
    "label_map = {1: 'small', 2: 'medium', 3: 'large', 4: np.nan}\n",
    "petal_length_cat = [label_map[x] for x in petal_length_bin]\n",
    "petal_length_cat[:10]"
   ]
  },
  {
   "cell_type": "code",
   "execution_count": 97,
   "metadata": {},
   "outputs": [
    {
     "data": {
      "text/plain": [
       "array([ 0, -2,  2,  0, -2,  2, -2,  2, -2])"
      ]
     },
     "execution_count": 97,
     "metadata": {},
     "output_type": "execute_result"
    }
   ],
   "source": [
    "# How to find all the local maxima (or peaks) in a 1D array?\n",
    "\n",
    "a = np.array([1, 3, 7, 1, 2, 6, 0, 9, 3, 7, 1])\n",
    "doublediff = np.diff(np.sign(np.diff(a)))\n",
    "doublediff"
   ]
  },
  {
   "cell_type": "code",
   "execution_count": 98,
   "metadata": {},
   "outputs": [
    {
     "data": {
      "text/plain": [
       "array([2, 5, 7])"
      ]
     },
     "execution_count": 98,
     "metadata": {},
     "output_type": "execute_result"
    }
   ],
   "source": [
    "# wrong\n",
    "peak_locations = np.where(doublediff == 2)[0]\n",
    "peak_locations"
   ]
  },
  {
   "cell_type": "code",
   "execution_count": 99,
   "metadata": {},
   "outputs": [
    {
     "data": {
      "text/plain": [
       "array([2, 5, 7, 9])"
      ]
     },
     "execution_count": 99,
     "metadata": {},
     "output_type": "execute_result"
    }
   ],
   "source": [
    "# correct\n",
    "peak_locations = np.where(doublediff == -2)[0] + 1\n",
    "peak_locations"
   ]
  },
  {
   "cell_type": "code",
   "execution_count": 102,
   "metadata": {},
   "outputs": [
    {
     "data": {
      "text/plain": [
       "array([1, 7, 3, 9, 0, 6, 2, 1, 7, 3, 1])"
      ]
     },
     "execution_count": 102,
     "metadata": {},
     "output_type": "execute_result"
    }
   ],
   "source": [
    "# Reverse an array\n",
    "arr = np.array([1, 3, 7, 1, 2, 6, 0, 9, 3, 7, 1])\n",
    "reversed_arr = arr[::-1]\n",
    "reversed_arr"
   ]
  },
  {
   "cell_type": "code",
   "execution_count": 104,
   "metadata": {},
   "outputs": [],
   "source": [
    "# What does einsum do in NumPy?\n",
    "\n",
    "A = np.array([0, 1, 2])\n",
    "\n",
    "B = np.array([[ 0,  1,  2,  3],\n",
    "              [ 4,  5,  6,  7],\n",
    "              [ 8,  9, 10, 11]])"
   ]
  },
  {
   "cell_type": "code",
   "execution_count": 108,
   "metadata": {},
   "outputs": [
    {
     "data": {
      "text/plain": [
       "array([ 0, 22, 76])"
      ]
     },
     "execution_count": 108,
     "metadata": {},
     "output_type": "execute_result"
    }
   ],
   "source": [
    "# Normal Python\n",
    "\n",
    "(A[:, np.newaxis] * B).sum(axis=1)\n"
   ]
  },
  {
   "cell_type": "code",
   "execution_count": 112,
   "metadata": {},
   "outputs": [
    {
     "data": {
      "text/plain": [
       "array([ 0, 22, 76])"
      ]
     },
     "execution_count": 112,
     "metadata": {},
     "output_type": "execute_result"
    }
   ],
   "source": [
    "np.einsum('i,ij->i', A, B)"
   ]
  },
  {
   "cell_type": "code",
   "execution_count": 113,
   "metadata": {},
   "outputs": [
    {
     "data": {
      "text/plain": [
       "array([20, 23, 26, 29])"
      ]
     },
     "execution_count": 113,
     "metadata": {},
     "output_type": "execute_result"
    }
   ],
   "source": [
    "np.einsum('i,ij->j', A, B)"
   ]
  },
  {
   "cell_type": "code",
   "execution_count": null,
   "metadata": {},
   "outputs": [],
   "source": []
  }
 ],
 "metadata": {
  "kernelspec": {
   "display_name": "Python 3 (ipykernel)",
   "language": "python",
   "name": "python3"
  },
  "language_info": {
   "codemirror_mode": {
    "name": "ipython",
    "version": 3
   },
   "file_extension": ".py",
   "mimetype": "text/x-python",
   "name": "python",
   "nbconvert_exporter": "python",
   "pygments_lexer": "ipython3",
   "version": "3.9.13"
  }
 },
 "nbformat": 4,
 "nbformat_minor": 2
}
